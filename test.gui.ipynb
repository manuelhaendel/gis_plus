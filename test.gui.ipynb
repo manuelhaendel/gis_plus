{
 "cells": [
  {
   "cell_type": "markdown",
   "metadata": {},
   "source": [
    "Image Processing Assignment\n",
    "\n",
    "\n",
    "'''In this project, you will have to create an image-filtering tool that follows the same concept as the Focal Statistics from ArcGIS1. The idea is to create a moving window that calculates different statistics for every pixel neighborhood, given a specific size window. For example, let us take an image with gray values and a filtering window of 3 by 3 pixels to calculate a maximum filter (Figure 1). The center of the filtering window will be the object of focus every calculation step. Then, the pixel with higher value within the filtering window is assigned to the central pixel. This procedure runs through the whole image, resulting in a maximum filtered image. The same concept would be used for minimum, mean, standard deviation and variance descriptors.\n",
    "\n",
    "You are allowed to create as many functions as you want. The design of the script is entirely up to you.\n",
    "Good\n",
    "''''\n",
    "\n"
   ]
  },
  {
   "cell_type": "markdown",
   "metadata": {},
   "source": [
    "1. Implement a function that creates a filtering window based on the user input. These inputs must be basic parameters (i.e. radius, size and/or angles) of the filtering window, including shape type."
   ]
  },
  {
   "cell_type": "code",
   "execution_count": 8,
   "metadata": {},
   "outputs": [
    {
     "name": "stdout",
     "output_type": "stream",
     "text": [
      "Array \"a\":\n",
      " [[31 10 16 21 13  9]\n",
      " [ 1 33  1  3 11 18]\n",
      " [18 26 25  8 16  8]\n",
      " [26 16 30 23 27  0]\n",
      " [21 25  5  4 29  2]\n",
      " [16  0  9 21 13  3]]\n"
     ]
    }
   ],
   "source": [
    "# Hello Guilherme! This is a test!\n",
    "\n",
    "import numpy as np\n",
    "\n",
    "#creating 6x6 grid as an example\n",
    "a = np.random.randint(36, size=(6, 6))\n",
    "print('Array \"a\":\\n {}'.format(a))\n",
    "\n",
    "\n",
    "\n",
    "\n"
   ]
  },
  {
   "cell_type": "markdown",
   "metadata": {},
   "source": [
    "2. Based on the input in task 1, implement the circle, square and rectangular shape options. The wedge shape will grant you extra points."
   ]
  },
  {
   "cell_type": "code",
   "execution_count": 4,
   "metadata": {},
   "outputs": [
    {
     "ename": "SyntaxError",
     "evalue": "invalid syntax (<ipython-input-4-03958d8230af>, line 3)",
     "output_type": "error",
     "traceback": [
      "\u001b[0;36m  File \u001b[0;32m\"<ipython-input-4-03958d8230af>\"\u001b[0;36m, line \u001b[0;32m3\u001b[0m\n\u001b[0;31m    def focsta(shape = 'square', radius, start.angle = False, end.angle = False):\u001b[0m\n\u001b[0m                                              ^\u001b[0m\n\u001b[0;31mSyntaxError\u001b[0m\u001b[0;31m:\u001b[0m invalid syntax\n"
     ]
    }
   ],
   "source": [
    "import numpy as np\n",
    "\n",
    "def focsta(shape = 'square', radius, start.angle = False, end.angle = False):\n",
    "    \n",
    "    if shape = 'square':\n",
    "        pass\n",
    "        \n",
    "    elif shape = 'circular':\n",
    "        pass\n",
    "        \n",
    "    elif shape = 'retangular':\n",
    "        pass\n",
    "    \n",
    "    elif shape = 'wedge':\n",
    "        pass\n",
    "    \n",
    "    else:\n",
    "        return 'Not an implemented shape.'\n",
    "        \n",
    "\n"
   ]
  },
  {
   "cell_type": "markdown",
   "metadata": {},
   "source": [
    "3. Based on tasks 1 and 2 implement the image filter like explained at the beginning of this project description and in the Focal Statistics documentation. Implement the functions minimum, maximum and mean. If you implement standard deviation and variance, you will get extra points."
   ]
  },
  {
   "cell_type": "code",
   "execution_count": 6,
   "metadata": {},
   "outputs": [
    {
     "name": "stdout",
     "output_type": "stream",
     "text": [
      "Object `shape` not found.\n"
     ]
    }
   ],
   "source": [
    "\n",
    "import numpy as np\n",
    "??shape\n"
   ]
  },
  {
   "cell_type": "code",
   "execution_count": 3,
   "metadata": {},
   "outputs": [
    {
     "ename": "ModuleNotFoundError",
     "evalue": "No module named 'geopandas'",
     "output_type": "error",
     "traceback": [
      "\u001b[0;31m---------------------------------------------------------------------------\u001b[0m",
      "\u001b[0;31mModuleNotFoundError\u001b[0m                       Traceback (most recent call last)",
      "\u001b[0;32m<ipython-input-3-c7acfcb033c7>\u001b[0m in \u001b[0;36m<module>\u001b[0;34m\u001b[0m\n\u001b[1;32m      1\u001b[0m \u001b[0;32mimport\u001b[0m \u001b[0mshapefile\u001b[0m \u001b[0;32mas\u001b[0m \u001b[0mshp\u001b[0m\u001b[0;34m\u001b[0m\u001b[0;34m\u001b[0m\u001b[0m\n\u001b[1;32m      2\u001b[0m \u001b[0;32mimport\u001b[0m \u001b[0mmath\u001b[0m\u001b[0;34m\u001b[0m\u001b[0;34m\u001b[0m\u001b[0m\n\u001b[0;32m----> 3\u001b[0;31m \u001b[0;32mimport\u001b[0m \u001b[0mgeopandas\u001b[0m \u001b[0;32mas\u001b[0m \u001b[0mgpd\u001b[0m\u001b[0;34m\u001b[0m\u001b[0;34m\u001b[0m\u001b[0m\n\u001b[0m\u001b[1;32m      4\u001b[0m \u001b[0;32mimport\u001b[0m \u001b[0mnumpy\u001b[0m \u001b[0;32mas\u001b[0m \u001b[0mnp\u001b[0m\u001b[0;34m\u001b[0m\u001b[0;34m\u001b[0m\u001b[0m\n\u001b[1;32m      5\u001b[0m \u001b[0;34m\u001b[0m\u001b[0m\n",
      "\u001b[0;31mModuleNotFoundError\u001b[0m: No module named 'geopandas'"
     ]
    }
   ],
   "source": []
  },
  {
   "cell_type": "code",
   "execution_count": null,
   "metadata": {},
   "outputs": [],
   "source": []
  }
 ],
 "metadata": {
  "kernelspec": {
   "display_name": "Python 3",
   "language": "python",
   "name": "python3"
  },
  "language_info": {
   "codemirror_mode": {
    "name": "ipython",
    "version": 3
   },
   "file_extension": ".py",
   "mimetype": "text/x-python",
   "name": "python",
   "nbconvert_exporter": "python",
   "pygments_lexer": "ipython3",
   "version": "3.7.6"
  }
 },
 "nbformat": 4,
 "nbformat_minor": 4
}
