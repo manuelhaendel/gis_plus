{
 "cells": [
  {
   "cell_type": "markdown",
   "metadata": {},
   "source": [
    "Image Processing Assignment\n",
    "\n",
    "\n",
    "'''In this project, you will have to create an image-filtering tool that follows the same concept as the Focal Statistics from ArcGIS1. The idea is to create a moving window that calculates different statistics for every pixel neighborhood, given a specific size window. For example, let us take an image with gray values and a filtering window of 3 by 3 pixels to calculate a maximum filter (Figure 1). The center of the filtering window will be the object of focus every calculation step. Then, the pixel with higher value within the filtering window is assigned to the central pixel. This procedure runs through the whole image, resulting in a maximum filtered image. The same concept would be used for minimum, mean, standard deviation and variance descriptors.\n",
    "\n",
    "You are allowed to create as many functions as you want. The design of the script is entirely up to you.\n",
    "Good luck!\n",
    "''''\n",
    "\n"
   ]
  },
  {
   "cell_type": "markdown",
   "metadata": {},
   "source": [
    "<img src=\"images/Pic1.jpg\" style=\"width: 650px\"/>\n",
    "\n",
    "Figure 1, the filtering window is a square (window length = window width). However, you can \n",
    "have circular windows (Figure 2a), rectangular windows (Figure 2b) or wedge windows (Figure 2c). \n",
    "The important issue to be aware of when window shapes are concerned, is that the central pixel \n",
    "must be in the right position, as highlighted in red in Figure 2.   \n",
    "\n",
    "<img src=\"images/Pic2.jpg\" style=\"width: 650px\"/>"
   ]
  },
  {
   "cell_type": "markdown",
   "metadata": {},
   "source": [
    "1. Implement a function that creates a filtering window based on the user input. These inputs must be basic parameters (i.e. radius, size and/or angles) of the filtering window, including shape type."
   ]
  },
  {
   "cell_type": "code",
   "execution_count": null,
   "metadata": {},
   "outputs": [],
   "source": []
  },
  {
   "cell_type": "code",
   "execution_count": 3,
   "metadata": {},
   "outputs": [
    {
     "name": "stdout",
     "output_type": "stream",
     "text": [
      "[[ 7.  8.  9. 10. 11. 11.]\n",
      " [13. 14. 15. 16. 17. 17.]\n",
      " [19. 20. 21. 22. 23. 23.]\n",
      " [25. 26. 27. 28. 29. 29.]\n",
      " [31. 32. 33. 34. 35. 35.]\n",
      " [37. 38. 39. 40. 41. 41.]\n",
      " [43. 44. 45. 46. 47. 47.]\n",
      " [49. 50. 51. 52. 53. 53.]\n",
      " [55. 56. 57. 58. 59. 59.]\n",
      " [55. 56. 57. 58. 59. 59.]]\n"
     ]
    }
   ],
   "source": [
    "import numpy as np\n",
    "\n",
    "\n",
    "'''\n",
    "So far, I build up two functions: One general function (focsta) which \n",
    "should be able to do all shapes in the end of our project.\n",
    "The second function is squarefun, which can calculate the max for a square shape.\n",
    "The way I did it, other functions (mean etc) should be implemented very easy.\n",
    "For the other shapes, I suggest building up other functions like I did for the first.\n",
    "\n",
    "Please search for bugs and try around with my code. I hope and think we can use it.\n",
    "Manu, please dont be too hard on me :)\n",
    "'''\n",
    "\n",
    "\n",
    "\n",
    "# functions for each shape!\n",
    "\n",
    "def squarefun(data, diameter):\n",
    "    data = np.array(data) #\n",
    "              \n",
    "    # diameter must be odd, test for it\n",
    "    if diameter%2==0:\n",
    "        raise ValueError('Diameter must be a odd integer')\n",
    "    \n",
    "    # filling newdata array with zeros\n",
    "    newdata = np.zeros(data.shape)\n",
    "    \n",
    "    # window size\n",
    "    wsize = int((diameter-1)/2)\n",
    "    \n",
    "    \n",
    "    \n",
    "    for col in range(np.size(data, 1)): # rows\n",
    "        for row in range(np.size(data, 0)):  # columns\n",
    "            \n",
    "            \n",
    "\n",
    "            ### border cases ###\n",
    "            \n",
    "            # all corners:\n",
    "            if col < wsize and row < wsize: # topleft\n",
    "                window = data[:row+wsize+1, :col+wsize+1]\n",
    "                #print('bot in topleft case \\n', bot)\n",
    "                \n",
    "            elif col < wsize and row >= np.size(data, 0)-wsize: # botleft\n",
    "                window = data[row-wsize:, :col+wsize+1]\n",
    "                #print('top in botleft case \\n', top)\n",
    "\n",
    "                \n",
    "            elif col >= np.size(data, 1)-wsize and row < wsize: # topright\n",
    "                window = data[:row+wsize+1, col-wsize:]\n",
    "                #print('bot in the topright case \\n', bot)\n",
    "                \n",
    "            elif col >= np.size(data, 1)-wsize and row >= np.size(data, 0)-wsize: # botright\n",
    "                window = data[row-wsize:, col-wsize:]\n",
    "                #print('top in the botright case \\n', top)\n",
    "\n",
    "                \n",
    "            # all borders:\n",
    "            elif col < wsize: # left border\n",
    "                window = data[row-wsize:row+wsize+1, :col+(wsize)+1]\n",
    "                #print('left border case: \\n', middle)\n",
    "                \n",
    "            elif row >= np.size(data, 0)-wsize: # bot border\n",
    "                window = data[row-wsize:, col-wsize:col+wsize+1]\n",
    "                #print('bot border case \\n', middle)\n",
    "                \n",
    "            elif col >= np.size(data, 1)-wsize: # right border\n",
    "                window = data[row-wsize:row+wsize+1, col-wsize:]\n",
    "                #print('right border case \\n', middle)\n",
    "                \n",
    "            elif row < wsize: # top border\n",
    "                 window = data[:row+wsize+1, col-wsize:col+wsize+1]\n",
    "                #print('top border case \\n', middle)\n",
    "            \n",
    "            \n",
    "            \n",
    "            else: # normal case\n",
    "                window = data[row-wsize:row+wsize+1, col-wsize:col+wsize+1]\n",
    "                #print('normal case \\n', middle)\n",
    "            \n",
    "\n",
    "            # finding the maximum\n",
    "            newdata[row, col] = np.max(window)\n",
    "            #print(newdata)     \n",
    "\n",
    "\n",
    "    return newdata\n",
    "    \n",
    "    \n",
    "    \n",
    "    \n",
    "    \n",
    "\n",
    "# Endfunction - so far only works with square as a shape :)\n",
    "def focsta(data, diameter, shape='square', start_angle=False, end_angle=False):\n",
    "    \n",
    "    data = np.array(data)\n",
    "    \n",
    "    if shape not in ('square', 'circular', 'retangular', 'wedge'):\n",
    "        raise ValueError('Not a implemented shape.')\n",
    "        \n",
    "    \n",
    "    if shape == 'square':\n",
    "        return squarefun(data, diameter)\n",
    "        \n",
    "        \n",
    "        \n",
    "    elif shape == 'circular':\n",
    "        pass\n",
    "    \n",
    "    \n",
    "    elif shape == 'retangular':\n",
    "        pass\n",
    "        \n",
    "        \n",
    "    elif shape == 'wedge':\n",
    "        pass\n",
    "\n",
    "\n",
    "    \n",
    "file = np.arange(60).reshape(10, 6) \n",
    "\n",
    "print(focsta(file, diameter=3)) # please test other files and diameters boys!! :)\n"
   ]
  },
  {
   "cell_type": "markdown",
   "metadata": {},
   "source": [
    "2. Based on the input in task 1, implement the circle, square and rectangular shape options. The wedge shape will grant you extra points."
   ]
  },
  {
   "cell_type": "code",
   "execution_count": null,
   "metadata": {},
   "outputs": [],
   "source": []
  },
  {
   "cell_type": "markdown",
   "metadata": {},
   "source": [
    "\n",
    "\n",
    "\n"
   ]
  },
  {
   "cell_type": "markdown",
   "metadata": {},
   "source": [
    "3. Based on tasks 1 and 2 implement the image filter like explained at the beginning of this project description and in the Focal Statistics documentation. Implement the functions minimum, maximum and mean. If you implement standard deviation and variance, you will get extra points."
   ]
  },
  {
   "cell_type": "code",
   "execution_count": null,
   "metadata": {},
   "outputs": [],
   "source": []
  },
  {
   "cell_type": "code",
   "execution_count": null,
   "metadata": {},
   "outputs": [],
   "source": []
  },
  {
   "cell_type": "code",
   "execution_count": null,
   "metadata": {},
   "outputs": [],
   "source": []
  },
  {
   "cell_type": "code",
   "execution_count": null,
   "metadata": {},
   "outputs": [],
   "source": []
  }
 ],
 "metadata": {
  "kernelspec": {
   "display_name": "Python 3",
   "language": "python",
   "name": "python3"
  },
  "language_info": {
   "codemirror_mode": {
    "name": "ipython",
    "version": 3
   },
   "file_extension": ".py",
   "mimetype": "text/x-python",
   "name": "python",
   "nbconvert_exporter": "python",
   "pygments_lexer": "ipython3",
   "version": "3.7.6"
  }
 },
 "nbformat": 4,
 "nbformat_minor": 4
}
