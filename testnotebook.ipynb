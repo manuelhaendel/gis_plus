{
 "cells": [
  {
   "cell_type": "markdown",
   "metadata": {},
   "source": [
    "<center><h1>Python"
   ]
  },
  {
   "cell_type": "markdown",
   "metadata": {},
   "source": [
    "Python is an open source powerful programming language, which is quite easy to learn. Python can be found almost everywhere, such as Google, FBI, NSA, Disney, Amazon, Youtube and many others.\n",
    "Python was conceived in the late 1980s, and its implementation began in December 1989 by Guido van Rossum at Centrum Wiskunde & Informatica (CWI) in the Netherlands."
   ]
  },
  {
   "cell_type": "markdown",
   "metadata": {},
   "source": [
    "Python has currently two main versions, 2.x and 3.x. Although both are well supported and still used worldwide, in the future, Python 2.x will be unsupported. Therefore, in order to start things right, we will use mostly Python 3.x.\n",
    "\n",
    "In this course we will learn python basics, covering the following topics:\n",
    " - Variable assignment\n",
    " - Types of variables\n",
    " - Mathematics in Python\n",
    " - Built-in functions\n",
    " - Slicing and indexing\n",
    " - Libraries\n",
    " - Conditions\n",
    " - Loops\n",
    " - Functions\n",
    " - Classes\n",
    "\n",
    "After, we will give a quick look on some basics regarding:\n",
    " - Numpy\n",
    " - Matplotlib\n",
    "\n",
    "Bur for now, let's get started with variables assignment and some basic variable types."
   ]
  },
  {
   "cell_type": "code",
   "execution_count": 20,
   "metadata": {},
   "outputs": [
    {
     "name": "stdout",
     "output_type": "stream",
     "text": [
      "Type var 'a': <class 'list'>\n",
      "Type var 'b': <class 'tuple'>\n",
      "Type of variable a: <class 'list'>\n",
      "Type of variable b: <class 'tuple'>\n"
     ]
    }
   ],
   "source": [
    "# test\n",
    "# let's declare variables and see the types we have\n",
    "a = [1,2.5, \"python\"]  # list elemtents can be changed later\n",
    "b = (1, 2.5, \"python\") # tuples can not be changed\n",
    "\n",
    "print(\"Type var 'a': {}\" .format(type(a)))\n",
    "print(\"Type var 'b': {}\" .format(type(b)))\n",
    "print(\"\" .join((\"Type of variable a: \", str(type(a)))))   # first string is the seperator of the arguments in join\n",
    "print(\"Type of variable b: \" + str(type(b)))"
   ]
  },
  {
   "cell_type": "code",
   "execution_count": 21,
   "metadata": {},
   "outputs": [
    {
     "name": "stdout",
     "output_type": "stream",
     "text": [
      "a ** b = 24.251465064166364\n",
      "\n"
     ]
    }
   ],
   "source": [
    "# now let's calculate some things\n",
    "a, b, c = 2, 4.6, 36       # multiple assignment\n",
    "\n",
    "# we print now some calculation options...\n",
    "print(\"a ** b = {}\\n\" .format(a ** b))  # a^b"
   ]
  },
  {
   "cell_type": "code",
   "execution_count": 25,
   "metadata": {},
   "outputs": [
    {
     "name": "stdout",
     "output_type": "stream",
     "text": [
      "Rest for s = 0, t = 1.5\n"
     ]
    }
   ],
   "source": [
    "# Extra calculation\n",
    "\n",
    "# Modulus operator\n",
    "s = 4 % 2\n",
    "t = 5.5 % 2            #Try with 5. instead of 3.\n",
    "print(\"Rest for s = {}, t = {}\" .format(s, t))\n"
   ]
  },
  {
   "cell_type": "code",
   "execution_count": 29,
   "metadata": {},
   "outputs": [
    {
     "name": "stdout",
     "output_type": "stream",
     "text": [
      "a = 1, type of a: <class 'int'>\n",
      "0.9999999999999999\n",
      "1.0\n",
      "False\n"
     ]
    }
   ],
   "source": [
    "# calculation between different types of variables\n",
    "a = 5 // 3    # integer division\n",
    "\n",
    "print(\"a = {}, type of a: {}\" .format(a, type(a)))\n",
    "\n",
    "m = 1.0 / 49.0 * 49.0\n",
    "k = 1.0 / 50.0 * 50.0\n",
    "b_v = (k == m)\n",
    "print(m)\n",
    "print(k)\n",
    "print(b_v)"
   ]
  },
  {
   "cell_type": "code",
   "execution_count": 5,
   "metadata": {},
   "outputs": [],
   "source": [
    "# strings (concatenation)\n",
    "\n",
    "\n",
    "# that looks ugly\n",
    "\n",
    "\n",
    "# Try this\n",
    "\n",
    "\n",
    "# \\n jumps a line\n",
    "# or this\n",
    "\n",
    "\n",
    "# or this\n"
   ]
  },
  {
   "cell_type": "code",
   "execution_count": 39,
   "metadata": {},
   "outputs": [
    {
     "name": "stdout",
     "output_type": "stream",
     "text": [
      "[100, 200, 300]\n",
      "[100, 200, 300, 400]\n",
      "[100, 200, -300, 400]\n",
      "[100, -300, 400]\n",
      "[100, -300]\n",
      "[2, 1, 4, 2, 3] [1, 2, 2, 3, 4]\n",
      "[1, 2, 2, 3, 4]\n"
     ]
    }
   ],
   "source": [
    "# now let's talk about lists\n",
    "\n",
    "# index   0    1    2    3    4\n",
    "list_ = [100, 200, 300]\n",
    "print(list_)\n",
    "# add extra number\n",
    "list_.append(400)\n",
    "print(list_)\n",
    "# change numbers from the list\n",
    "list_[2] = -300\n",
    "print(list_)\n",
    "\n",
    "# delete numbers from the list\n",
    "list_.pop(1)  # removes element of index 1\n",
    "print(list_)\n",
    "\n",
    "list_.remove(400)   # removes element of value 500\n",
    "print(list_)\n",
    "\n",
    "# organize lists\n",
    "a = [2,1,4,2,3]\n",
    "b = a[:]    # creates a new list that is a copy of a\n",
    "c = a       # c points to the same list as a\n",
    "b.sort()\n",
    "print(a, b)\n",
    "c.sort()\n",
    "print(a)\n"
   ]
  },
  {
   "cell_type": "code",
   "execution_count": 48,
   "metadata": {},
   "outputs": [
    {
     "name": "stdout",
     "output_type": "stream",
     "text": [
      "x + z = (1, 5, 4, 3, 2, 3, 4, 5, 3, 100)\n",
      "3\n",
      "2\n"
     ]
    }
   ],
   "source": [
    "\"\"\" How do we append in Tuples?\n",
    "There is no method for that.\n",
    "We need to use concatenation.\"\"\"\n",
    "x = (1,5,4,3,2,3,4,5,3)\n",
    "z = (100,)     # without comma z is an integer\n",
    "print(\"x + z = {}\" .format(x + z))\n",
    "\n",
    "count = x.count(3)  # counts the number of 3s in the vector 'x' and stores it as integer 'count'\n",
    "print(count)\n",
    "\n",
    "n = 4\n",
    "indx = x.index(n)   # returns the index of the FIRST element of value 4\n",
    "print(indx)"
   ]
  },
  {
   "cell_type": "code",
   "execution_count": 54,
   "metadata": {},
   "outputs": [
    {
     "name": "stdout",
     "output_type": "stream",
     "text": [
      "[1, 2, 3, 4, 5, 6] [1, 2, 3, 4, 5, 6]\n",
      "(1, 2, 3, 4, 5) (1, 2, 3, 4, 5, 6)\n"
     ]
    }
   ],
   "source": [
    "# Dependecies\n",
    "\n",
    "# How does it work with lists\n",
    "a = [1,2,3,4,5]\n",
    "b = a\n",
    "b += (6,)   # += -> b = b + (6,)\n",
    "print(a, b)\n",
    "# Now let's see what happens with tuples\n",
    "a = (1,2,3,4,5)\n",
    "b = a\n",
    "b += (6,)   # tuple b can not be changed, so a new object is created\n",
    "print(a, b)  "
   ]
  },
  {
   "cell_type": "code",
   "execution_count": 58,
   "metadata": {},
   "outputs": [
    {
     "name": "stdout",
     "output_type": "stream",
     "text": [
      "{'A': 1, 'B': 2, 'C': 3, 'D': 4}\n",
      "<class 'dict'>\n"
     ]
    }
   ],
   "source": [
    "\"\"\"Let's take a look on dictionaries now\n",
    "You can create Lists using [ ]\n",
    "and Tuples using ( )\n",
    "But with Dictionaries we have to use { }\"\"\"\n",
    "\n",
    "# Dictionary variables are constructed like:\n",
    "# dict_ = {Key 1: value 1, Key 2: value 2, ... , Key n: value n}\n",
    "dict_ = {\"A\": 1,\n",
    "         \"B\": 2,\n",
    "         \"C\": 3,\n",
    "         \"D\": 4,}\n",
    "print(dict_)\n",
    "print(type(dict_))\n"
   ]
  },
  {
   "cell_type": "code",
   "execution_count": 59,
   "metadata": {},
   "outputs": [
    {
     "name": "stdout",
     "output_type": "stream",
     "text": [
      "{'A': 1, 'B': 2, 'C': 3, 'D': 4, 'E': 5}\n"
     ]
    }
   ],
   "source": [
    "# How can I add more stuff to the dictionary?\n",
    "dict_[\"E\"] = 5\n",
    "print(dict_)"
   ]
  },
  {
   "cell_type": "code",
   "execution_count": 74,
   "metadata": {},
   "outputs": [
    {
     "name": "stdout",
     "output_type": "stream",
     "text": [
      "{'ID': 1685, 'Name': 'Adan', 'Age': 20}\n"
     ]
    }
   ],
   "source": [
    "Dict = {'ID':1685, 'Name': 'Adan', 'Age': 20}\n",
    "print(Dict)\n"
   ]
  },
  {
   "cell_type": "code",
   "execution_count": 75,
   "metadata": {
    "scrolled": false
   },
   "outputs": [
    {
     "name": "stdout",
     "output_type": "stream",
     "text": [
      "{'ID': 1685, 'Name': 'Adan', 'Age': 20, 'City': 'Freiburg'}\n"
     ]
    }
   ],
   "source": [
    "# Task 1 - Add a new key called City with value Freiburg to the variable Dict\n",
    "Dict[\"City\"] = \"Freiburg\"\n",
    "print(Dict)"
   ]
  },
  {
   "cell_type": "code",
   "execution_count": 68,
   "metadata": {},
   "outputs": [
    {
     "name": "stdout",
     "output_type": "stream",
     "text": [
      "{'ID': 1690, 'Name': 'Adan', 'Age': 20, 'City': 'Freiburg'}\n",
      "{'ID': 1690, 'Name': 'Adan', 'Age': 20, 'City': 'Freiburg', 'test': 'Test'}\n",
      "{'ID': 1690, 'Name': 'Adan', 'Age': 20, 'City': 'Freiburg'}\n"
     ]
    }
   ],
   "source": [
    "# Task 2 - Change the ID number of Adan. (We didn't see that yet, but do you have any ideas?)\n",
    "Dict[\"ID\"] = 1690\n",
    "print(Dict)\n",
    "Dict[\"test\"] = \"Test\"\n",
    "print(Dict)\n",
    "del Dict[\"test\"]\n",
    "print(Dict)"
   ]
  },
  {
   "cell_type": "code",
   "execution_count": 76,
   "metadata": {
    "scrolled": true
   },
   "outputs": [
    {
     "name": "stdout",
     "output_type": "stream",
     "text": [
      "dict_keys(['ID', 'Name', 'Age', 'City'])\n",
      "dict_values([1685, 'Adan', 20, 'Freiburg'])\n",
      "20\n",
      "{'ID': 1685, 'Name': 'Adan', 'City': 'Freiburg'}\n"
     ]
    },
    {
     "data": {
      "text/plain": [
       "dict_items([('ID', 1685), ('Name', 'Adan'), ('City', 'Freiburg')])"
      ]
     },
     "execution_count": 76,
     "metadata": {},
     "output_type": "execute_result"
    }
   ],
   "source": [
    "# Some important functions for dictionaries\n",
    "\n",
    "# Get all keys\n",
    "print(Dict.keys())\n",
    "\n",
    "# Get all values\n",
    "print(Dict.values())\n",
    "\n",
    "# Remove elements\n",
    "print(Dict.pop(\"Age\"))\n",
    "print(Dict)\n",
    "\n",
    "# see how the dictionary looks like\n",
    "Dict.items()"
   ]
  },
  {
   "cell_type": "markdown",
   "metadata": {},
   "source": [
    "For the next episode of Python 1...\n",
    "\n",
    "you will have a journey through:\n",
    "- Slicing\n",
    "- Indexing\n",
    "- Built-in functions"
   ]
  },
  {
   "cell_type": "markdown",
   "metadata": {},
   "source": [
    "<h1><i><center>To be continued...</center></i></h1>"
   ]
  }
 ],
 "metadata": {
  "anaconda-cloud": {},
  "kernelspec": {
   "display_name": "Python 3",
   "language": "python",
   "name": "python3"
  },
  "language_info": {
   "codemirror_mode": {
    "name": "ipython",
    "version": 3
   },
   "file_extension": ".py",
   "mimetype": "text/x-python",
   "name": "python",
   "nbconvert_exporter": "python",
   "pygments_lexer": "ipython3",
   "version": "3.7.6"
  }
 },
 "nbformat": 4,
 "nbformat_minor": 1
}
